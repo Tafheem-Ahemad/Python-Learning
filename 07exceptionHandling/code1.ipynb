{
 "cells": [
  {
   "cell_type": "markdown",
   "metadata": {},
   "source": [
    "### Exception(Error) Handling \n",
    "\n",
    "`try` , `except` , `else` , `finally` keywords"
   ]
  },
  {
   "cell_type": "code",
   "execution_count": 1,
   "metadata": {},
   "outputs": [],
   "source": [
    "\n",
    "# \n",
    "\n",
    "\n",
    "try:\n",
    "\t# Some code\n",
    "\tpass\n",
    "except :\n",
    "\t# Is get error catch it\n",
    "\tpass\n",
    "else :\n",
    "\t# if no error Then print it\n",
    "\tpass\n",
    "finally :\n",
    "\t# Ending Block of the try catch\n",
    "\t# It will exicute coe has error or nor\n",
    "\tpass"
   ]
  },
  {
   "cell_type": "code",
   "execution_count": 6,
   "metadata": {},
   "outputs": [
    {
     "name": "stdout",
     "output_type": "stream",
     "text": [
      "About the error we donot know\n"
     ]
    }
   ],
   "source": [
    "\n",
    "try:\n",
    "\tnum = 10\n",
    "\tnum/=\"0\"\n",
    "except ZeroDivisionError as ex1:\n",
    "\tprint(ex1)\n",
    "except Exception as ex:\n",
    "\tprint(\"About the error we donot know\")\n"
   ]
  },
  {
   "cell_type": "code",
   "execution_count": 7,
   "metadata": {},
   "outputs": [
    {
     "name": "stdout",
     "output_type": "stream",
     "text": [
      "Hii I am Tafheem Ahemad\n",
      "I am a student of B.Tech\n",
      "I am a student of Computer Science\n",
      "I am 20 years old\n",
      "I am a student of NIT Rourkela\n",
      "I am from mechanical branch\n",
      "\n",
      "name 'b' is not defined\n"
     ]
    }
   ],
   "source": [
    "\n",
    "try :\n",
    "\twith open(\"text.txt\",'r') as file:\n",
    "\t\tprint(file.read())\n",
    "\n",
    "\ta=b;\n",
    "\n",
    "except ZeroDivisionError as ex1:\n",
    "\tprint(ex1)\n",
    "except Exception as ex:\n",
    "\tprint(ex)\n",
    "\n",
    "finally:\n",
    "\tif 'file' in locals() or not file.closed():\n",
    "\t\tfile.close()"
   ]
  },
  {
   "cell_type": "code",
   "execution_count": null,
   "metadata": {},
   "outputs": [],
   "source": []
  },
  {
   "cell_type": "code",
   "execution_count": null,
   "metadata": {},
   "outputs": [],
   "source": []
  },
  {
   "cell_type": "code",
   "execution_count": null,
   "metadata": {},
   "outputs": [],
   "source": []
  }
 ],
 "metadata": {
  "kernelspec": {
   "display_name": "py312",
   "language": "python",
   "name": "python3"
  },
  "language_info": {
   "codemirror_mode": {
    "name": "ipython",
    "version": 3
   },
   "file_extension": ".py",
   "mimetype": "text/x-python",
   "name": "python",
   "nbconvert_exporter": "python",
   "pygments_lexer": "ipython3",
   "version": "3.12.5"
  }
 },
 "nbformat": 4,
 "nbformat_minor": 2
}
