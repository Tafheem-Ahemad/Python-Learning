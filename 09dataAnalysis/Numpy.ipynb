{
 "cells": [
  {
   "cell_type": "code",
   "execution_count": 2,
   "metadata": {},
   "outputs": [],
   "source": [
    "import numpy as np"
   ]
  },
  {
   "cell_type": "code",
   "execution_count": 42,
   "metadata": {},
   "outputs": [
    {
     "name": "stdout",
     "output_type": "stream",
     "text": [
      "[10 20 40]\n",
      "(3,)\n",
      "70\n",
      "23.0\n",
      "12.0\n",
      "156.0\n",
      "20.0\n"
     ]
    }
   ],
   "source": [
    "# Here array like Array in c++ ,not like vector , so every row has same data\n",
    "\n",
    "arr1=np.array([10,20,40])\n",
    "print(arr1)\n",
    "print(arr1.shape)\n",
    "print(arr1.sum())\n",
    "print(arr1.mean().round())\n",
    "print(arr1.std().round())\n",
    "print(arr1.var().round())\n",
    "print(np.median(arr1).round())"
   ]
  },
  {
   "cell_type": "code",
   "execution_count": 25,
   "metadata": {},
   "outputs": [
    {
     "name": "stdout",
     "output_type": "stream",
     "text": [
      "[[1 0 0]\n",
      " [0 1 0]\n",
      " [0 0 1]]\n",
      "int64\n",
      "[[1 1 1 1 1 1]\n",
      " [1 1 1 1 1 1]]\n",
      "[[0 0 0 0]\n",
      " [0 0 0 0]\n",
      " [0 0 0 0]]\n"
     ]
    }
   ],
   "source": [
    "arr2=np.eye(3,dtype=np.int64)\n",
    "print(arr2)\n",
    "print(arr2.dtype)\n",
    "arr3=np.ones((2,6),dtype=int) # give in float by default\n",
    "print(arr3)\n",
    "arr4=np.zeros((3,4),dtype=int)\n",
    "print(arr4)"
   ]
  },
  {
   "cell_type": "code",
   "execution_count": 33,
   "metadata": {},
   "outputs": [
    {
     "name": "stdout",
     "output_type": "stream",
     "text": [
      "[[ 1  3  5]\n",
      " [ 7  9 11]]\n"
     ]
    }
   ],
   "source": [
    "\n",
    "arr5=np.arange(1,12,2).reshape((2,3))\n",
    "print(arr5)\n"
   ]
  },
  {
   "cell_type": "code",
   "execution_count": 35,
   "metadata": {},
   "outputs": [
    {
     "name": "stdout",
     "output_type": "stream",
     "text": [
      "[11 22 33 44]\n",
      "[ 9 18 27 36]\n",
      "[ 10  40  90 160]\n",
      "[10 10 10 10]\n"
     ]
    }
   ],
   "source": [
    "\n",
    "arr6=np.array([10,20,30,40])\n",
    "arr7=np.array([1,2,3,4])\n",
    "\n",
    "print(arr6+arr7)\n",
    "print(arr6-arr7)\n",
    "print(arr6*arr7)\n",
    "print(arr6//arr7)"
   ]
  },
  {
   "cell_type": "code",
   "execution_count": 38,
   "metadata": {},
   "outputs": [
    {
     "name": "stdout",
     "output_type": "stream",
     "text": [
      "[[10  8]\n",
      " [ 7  8]]\n"
     ]
    }
   ],
   "source": [
    "arr8=np.array([[5,4],[2,4]])\n",
    "arr9=np.array([[5,4]])\n",
    "\n",
    "print(arr8+arr9)"
   ]
  },
  {
   "cell_type": "code",
   "execution_count": 39,
   "metadata": {},
   "outputs": [
    {
     "name": "stdout",
     "output_type": "stream",
     "text": [
      "[1.41421356 1.73205081 2.         2.23606798 2.44948974]\n",
      "[  7.3890561   20.08553692  54.59815003 148.4131591  403.42879349]\n",
      "[ 0.90929743  0.14112001 -0.7568025  -0.95892427 -0.2794155 ]\n",
      "[0.69314718 1.09861229 1.38629436 1.60943791 1.79175947]\n"
     ]
    }
   ],
   "source": [
    "\n",
    "arr10=np.array([2,3,4,5,6])\n",
    "## square root\n",
    "print(np.sqrt(arr10))\n",
    "\n",
    "## Exponential\n",
    "print(np.exp(arr10))\n",
    "\n",
    "## Sine\n",
    "print(np.sin(arr10))\n",
    "\n",
    "## natural log\n",
    "print(np.log(arr10))"
   ]
  },
  {
   "cell_type": "code",
   "execution_count": 46,
   "metadata": {},
   "outputs": [
    {
     "name": "stdout",
     "output_type": "stream",
     "text": [
      "[ 1  2  3  4  5  6  7  8  9 10]\n",
      "[5 6 7 8]\n"
     ]
    }
   ],
   "source": [
    "## Logical operation\n",
    "data=np.array([1,2,3,4,5,6,7,8,9,10])\n",
    "\n",
    "print(data)\n",
    "new_data=data[(data>=5) & (data<=8)]\n",
    "print(new_data)\n"
   ]
  },
  {
   "cell_type": "code",
   "execution_count": 53,
   "metadata": {},
   "outputs": [
    {
     "name": "stdout",
     "output_type": "stream",
     "text": [
      "[[ 1  2  3  4]\n",
      " [ 5  6  7  8]\n",
      " [ 9 10 11 12]]\n",
      " \n",
      "New Array \n",
      " [[ 6  7]\n",
      " [10 11]]\n"
     ]
    }
   ],
   "source": [
    "\n",
    "# Slicing\n",
    "arr11=np.array([[1,2,3,4],[5,6,7,8],[9,10,11,12]])\n",
    "print(arr11,end=\"\\n \\n\")\n",
    "\n",
    "arr12=arr11[1:,1:3]\n",
    "print(\"New Array \\n\",arr12)\n"
   ]
  },
  {
   "cell_type": "code",
   "execution_count": null,
   "metadata": {},
   "outputs": [],
   "source": []
  },
  {
   "cell_type": "code",
   "execution_count": null,
   "metadata": {},
   "outputs": [],
   "source": []
  },
  {
   "cell_type": "code",
   "execution_count": null,
   "metadata": {},
   "outputs": [],
   "source": []
  },
  {
   "cell_type": "code",
   "execution_count": null,
   "metadata": {},
   "outputs": [],
   "source": []
  },
  {
   "cell_type": "code",
   "execution_count": null,
   "metadata": {},
   "outputs": [],
   "source": []
  }
 ],
 "metadata": {
  "kernelspec": {
   "display_name": "py312",
   "language": "python",
   "name": "python3"
  },
  "language_info": {
   "codemirror_mode": {
    "name": "ipython",
    "version": 3
   },
   "file_extension": ".py",
   "mimetype": "text/x-python",
   "name": "python",
   "nbconvert_exporter": "python",
   "pygments_lexer": "ipython3",
   "version": "3.12.5"
  }
 },
 "nbformat": 4,
 "nbformat_minor": 2
}
