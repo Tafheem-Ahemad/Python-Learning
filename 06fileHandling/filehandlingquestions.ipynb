{
 "cells": [
  {
   "cell_type": "markdown",
   "metadata": {},
   "source": [
    "# Module: File Handling Assignments\n",
    "## Lesson: File Handling and Operations\n",
    "### Assignment 1: Reading a File\n",
    "\n",
    "Write a function that reads the contents of a file named `sample.txt` and prints each line.\n",
    "\n",
    "### Assignment 2: Writing to a File\n",
    "\n",
    "Write a function that writes a list of strings to a file named `output.txt`, with each string on a new line.\n",
    "\n",
    "### Assignment 3: Copying a File\n",
    "\n",
    "Write a function that copies the contents of a file named `source.txt` to a new file named `destination.txt`.\n",
    "\n",
    "### Assignment 4: Appending to a File\n",
    "\n",
    "Write a function that appends a given string to the end of a file named `log.txt`.\n",
    "\n",
    "### Assignment 5: Counting Words in a File\n",
    "\n",
    "Write a function that reads the contents of a file named `document.txt` and returns the number of words in the file.\n",
    "\n",
    "### Assignment 6: Finding and Replacing Text\n",
    "\n",
    "Write a function that finds and replaces all occurrences of a given word in a file named `data.txt` with another word.\n",
    "\n",
    "### Assignment 7: Reading a File in Reverse\n",
    "\n",
    "Write a function that reads the contents of a file named `reverse.txt` and prints each line in reverse order.\n",
    "\n",
    "### Assignment 8: Counting Lines, Words, and Characters\n",
    "\n",
    "Write a function that reads the contents of a file named `stats.txt` and returns the number of lines, words, and characters in the file.\n",
    "\n",
    "### Assignment 9: Merging Multiple Files\n",
    "\n",
    "Write a function that merges the contents of multiple files into a single file named `merged.txt`.\n",
    "\n",
    "### Assignment 10: Splitting a Large File\n",
    "\n",
    "Write a function that splits a large file named `large.txt` into smaller files of 100 lines each.\n",
    "\n",
    "### Assignment 11: Creating a Log File\n",
    "\n",
    "Write a function that creates a log file named `activity.log` and writes log messages with timestamps.\n",
    "\n",
    "### Assignment 12: Binary File Operations\n",
    "\n",
    "Write a function that reads a binary file named `image.bin` and writes its contents to another binary file named `copy_image.bin`.\n",
    "\n",
    "### Assignment 13: CSV File Operations\n",
    "\n",
    "Write a function that reads a CSV file named `data.csv` and prints its contents as a list of dictionaries.\n",
    "\n",
    "### Assignment 14: JSON File Operations\n",
    "\n",
    "Write a function that reads a JSON file named `data.json` and prints its contents as a Python dictionary.\n",
    "\n",
    "### Assignment 15: File Permission Handling\n",
    "\n",
    "Write a function that attempts to read a file named `protected.txt` and handles any permission errors gracefully by printing an error message."
   ]
  },
  {
   "cell_type": "code",
   "execution_count": 7,
   "metadata": {},
   "outputs": [
    {
     "name": "stdout",
     "output_type": "stream",
     "text": [
      "['I am Tafheem Ahemad\\n', 'I am a student of B.Tech\\n', 'I am 19 years old\\n', 'I am from Rourkela\\n', 'I am a web developer\\n', 'I am expert at CF']\n",
      "I are Tafheem Ahemad\n",
      "I are a student of B.Tech\n",
      "I are 19 years old\n",
      "I are from Rourkela\n",
      "I are a web developer\n",
      "I are expert at CF\n"
     ]
    }
   ],
   "source": [
    "# Assignment 6\n",
    "\n",
    "with open(\"text1.txt\",'r+') as file:\n",
    "\tlines =file.readlines()\n",
    "\tprint(lines)\n",
    "\n",
    "\tupdate_lines =[line.replace(\"am\",\"are\") for line in lines]\n",
    "\t\n",
    "\tfile.seek(0)\n",
    "\n",
    "\tfile.writelines(update_lines)\n",
    "\n",
    "\tfile.seek(0)\n",
    "\tprint(file.read())\n",
    "\n"
   ]
  },
  {
   "cell_type": "code",
   "execution_count": 14,
   "id": "dcce6780",
   "metadata": {},
   "outputs": [
    {
     "name": "stdout",
     "output_type": "stream",
     "text": [
      "{'I': 6, 'are': 6, 'Tafheem': 1, 'Ahemad': 1, 'a': 2, 'student': 1, 'of': 1, 'B.Tech': 1, '19': 1, 'years': 1, 'old': 1, 'from': 1, 'Rourkela': 1, 'web': 1, 'developer': 1, 'expert': 1, 'at': 1, 'CF': 1}\n",
      "The number of lines in the file is 6\n"
     ]
    }
   ],
   "source": [
    "\n",
    "# Assignment 5\n",
    "with open(\"text1.txt\",'r') as file :\n",
    "\tmp={}\n",
    "\n",
    "\tlength=0\n",
    "\tfor line in file:\n",
    "\t\tlength+=1\n",
    "\t\tline=line.strip()\n",
    "\t\tli=line.split(\" \")\n",
    "\t\tfor word in li:\n",
    "\t\t\tmp[word] =mp.get(word,0)+1\n",
    "\t\n",
    "\tprint(mp)\n",
    "\tprint(f\"The number of lines in the file is {length}\")\n",
    "\t\n"
   ]
  },
  {
   "cell_type": "code",
   "execution_count": 16,
   "id": "35bd9066",
   "metadata": {},
   "outputs": [],
   "source": [
    "\n",
    "# Assignment 3\n",
    "\n",
    "with open(\"text1.txt\",'r') as file1:\n",
    "\twith open(\"text2.txt\",'w') as file2:\n",
    "\t\tfile2.write(file1.read())\n"
   ]
  },
  {
   "cell_type": "code",
   "execution_count": null,
   "id": "3019d7f6",
   "metadata": {},
   "outputs": [],
   "source": []
  },
  {
   "cell_type": "code",
   "execution_count": null,
   "id": "1c726771",
   "metadata": {},
   "outputs": [],
   "source": []
  },
  {
   "cell_type": "code",
   "execution_count": null,
   "id": "2ac84978",
   "metadata": {},
   "outputs": [],
   "source": []
  }
 ],
 "metadata": {
  "kernelspec": {
   "display_name": "py312",
   "language": "python",
   "name": "python3"
  },
  "language_info": {
   "codemirror_mode": {
    "name": "ipython",
    "version": 3
   },
   "file_extension": ".py",
   "mimetype": "text/x-python",
   "name": "python",
   "nbconvert_exporter": "python",
   "pygments_lexer": "ipython3",
   "version": "3.12.5"
  }
 },
 "nbformat": 4,
 "nbformat_minor": 5
}
