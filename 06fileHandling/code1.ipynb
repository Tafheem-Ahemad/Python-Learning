{
 "cells": [
  {
   "cell_type": "markdown",
   "metadata": {},
   "source": [
    "### File Handing\n",
    "\n",
    "How `read` , `write` , `Append` the file in `Python`"
   ]
  },
  {
   "cell_type": "code",
   "execution_count": 1,
   "metadata": {},
   "outputs": [
    {
     "name": "stdout",
     "output_type": "stream",
     "text": [
      "I am Tafheem Ahemad\n",
      "I am a student of B.Tech\n",
      "I am 19 years old\n",
      "I am from Rourkela\n",
      "I am a web developer\n"
     ]
    }
   ],
   "source": [
    "\n",
    "# Read a file\n",
    "with open(\"text1.txt\", 'r') as file:\n",
    "\tprint(file.read())\n"
   ]
  },
  {
   "cell_type": "code",
   "execution_count": 3,
   "metadata": {},
   "outputs": [
    {
     "name": "stdout",
     "output_type": "stream",
     "text": [
      "I am Tafheem Ahemad\n",
      "I am a student of B.Tech\n",
      "I am 19 years old\n",
      "I am from Rourkela\n",
      "I am a web developer\n"
     ]
    }
   ],
   "source": [
    "# Read a file Manually\n",
    "with open(\"text1.txt\", 'r') as file:\n",
    "\tfor line in file :\n",
    "\t\tprint(line.strip()) # for remove the new line charecter"
   ]
  },
  {
   "cell_type": "code",
   "execution_count": 9,
   "metadata": {},
   "outputs": [
    {
     "name": "stdout",
     "output_type": "stream",
     "text": [
      "I am Aleem Ahemad\n",
      "\n"
     ]
    }
   ],
   "source": [
    "# write File (overwrite)\n",
    "\n",
    "with open('text1.txt','w') as file:\n",
    "\tfile.write(\"I am Aleem Ahemad\\n\")\n",
    "\n",
    "with open(\"text1.txt\", 'r') as file:\n",
    "\tprint(file.read())"
   ]
  },
  {
   "cell_type": "code",
   "execution_count": 10,
   "metadata": {},
   "outputs": [
    {
     "name": "stdout",
     "output_type": "stream",
     "text": [
      "I am Aleem Ahemad\n",
      "I am Tafheem Ahemad\n"
     ]
    }
   ],
   "source": [
    "#  write File (not overwrite)\n",
    "\n",
    "with open('text1.txt','a') as file:\n",
    "\tfile.write(\"I am Tafheem Ahemad\")\n",
    "\n",
    "with open(\"text1.txt\", 'r') as file:\n",
    "\tprint(file.read())"
   ]
  },
  {
   "cell_type": "code",
   "execution_count": 28,
   "metadata": {},
   "outputs": [
    {
     "name": "stdout",
     "output_type": "stream",
     "text": [
      "I am Tafheem Ahemad\n",
      "I am a student of B.Tech\n",
      "I am 19 years old\n",
      "I am from Rourkela\n",
      "I am a web developer\n",
      "\n"
     ]
    }
   ],
   "source": [
    "# Write a list of line\n",
    "li  = [\"I am Tafheem Ahemad\\n\"\n",
    "\"I am a student of B.Tech\\n\",\n",
    "\"I am 19 years old\\n\",\n",
    "\"I am from Rourkela\\n\",\n",
    "\"I am a web developer\\n\"]\n",
    "\n",
    "\n",
    "with open('text1.txt','w') as file:\n",
    "\tfile.writelines(li)\n",
    "\n",
    "with open(\"text1.txt\", 'r') as file:\n",
    "\tprint(file.read())"
   ]
  },
  {
   "cell_type": "code",
   "execution_count": 55,
   "metadata": {},
   "outputs": [
    {
     "name": "stdout",
     "output_type": "stream",
     "text": [
      "I am Tafheem Ahemad\n",
      "I am a student of B.Tech\n",
      "I am 19 years old\n",
      "I am from Rourkela\n",
      "I am a web developer\n",
      "I am expert at CF\n",
      "em Ahemad\n",
      "I am a student of B.Tech\n",
      "I am 19 years old\n",
      "I am from Rourkela\n",
      "I am a web developer\n",
      "I am expert at CF\n"
     ]
    }
   ],
   "source": [
    "\n",
    "# Both write and read a file\n",
    "with open(\"text1.txt\",'a+') as file:\n",
    "\n",
    "\tfile.seek(0)\n",
    "\tprint(file.read())\n",
    "\n",
    "\tfile.seek(10,0) # from 10th\n",
    "\tprint(file.read())\n"
   ]
  },
  {
   "cell_type": "code",
   "execution_count": null,
   "metadata": {},
   "outputs": [],
   "source": []
  },
  {
   "cell_type": "code",
   "execution_count": null,
   "metadata": {},
   "outputs": [],
   "source": []
  },
  {
   "cell_type": "code",
   "execution_count": null,
   "metadata": {},
   "outputs": [],
   "source": []
  },
  {
   "cell_type": "code",
   "execution_count": null,
   "metadata": {},
   "outputs": [],
   "source": []
  },
  {
   "cell_type": "code",
   "execution_count": null,
   "metadata": {},
   "outputs": [],
   "source": []
  }
 ],
 "metadata": {
  "kernelspec": {
   "display_name": "py312",
   "language": "python",
   "name": "python3"
  },
  "language_info": {
   "codemirror_mode": {
    "name": "ipython",
    "version": 3
   },
   "file_extension": ".py",
   "mimetype": "text/x-python",
   "name": "python",
   "nbconvert_exporter": "python",
   "pygments_lexer": "ipython3",
   "version": "3.12.5"
  }
 },
 "nbformat": 4,
 "nbformat_minor": 2
}
