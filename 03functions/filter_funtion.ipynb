{
 "cells": [
  {
   "cell_type": "markdown",
   "metadata": {},
   "source": [
    "### filter Function\n",
    "It use to filter out some element form any Iterable Item"
   ]
  },
  {
   "cell_type": "code",
   "execution_count": 1,
   "metadata": {},
   "outputs": [
    {
     "name": "stdout",
     "output_type": "stream",
     "text": [
      "1\n"
     ]
    }
   ],
   "source": [
    "def is_even(num):\n",
    "\tif(num%2): return 0\n",
    "\telse: return 1\n",
    "\n",
    "print(is_even(10))"
   ]
  },
  {
   "cell_type": "code",
   "execution_count": 2,
   "metadata": {},
   "outputs": [
    {
     "name": "stdout",
     "output_type": "stream",
     "text": [
      "[10, 214, 4522, 142, 4852, 8242, 486]\n"
     ]
    }
   ],
   "source": [
    "li = [10,214,4522,142,4852,41,8242,486,31589]\n",
    "even_numbers = list(filter(is_even,li))\n",
    "print(even_numbers)"
   ]
  },
  {
   "cell_type": "code",
   "execution_count": 3,
   "metadata": {},
   "outputs": [
    {
     "name": "stdout",
     "output_type": "stream",
     "text": [
      "[10, 214, 4522, 142, 4852, 8242, 486]\n"
     ]
    }
   ],
   "source": [
    "# Using lamda\n",
    "even_numbers = list(filter(lambda x:x%2==0,li))\n",
    "print(even_numbers)"
   ]
  },
  {
   "cell_type": "code",
   "execution_count": 4,
   "metadata": {},
   "outputs": [
    {
     "name": "stdout",
     "output_type": "stream",
     "text": [
      "[{'name': 'Jack', 'age': 33}, {'name': 'John', 'age': 25}, {'name': 'Tafheem', 'age': 25}]\n"
     ]
    }
   ],
   "source": [
    "# using for some dictinonary\n",
    "people=[\n",
    "    {'name':'Jack','age':33},\n",
    "    {'name':'John','age':25},\n",
    "    {'name':'Tafheem','age':25},\n",
    "    {'name':'Aleem','age':12}\n",
    "]\n",
    "\n",
    "def can_vote(person):\n",
    "\treturn person[\"age\"] >= 18\n",
    "\n",
    "voted_people = list(filter(can_vote,people))\n",
    "print(voted_people)\n"
   ]
  },
  {
   "cell_type": "code",
   "execution_count": null,
   "metadata": {},
   "outputs": [],
   "source": []
  },
  {
   "cell_type": "code",
   "execution_count": null,
   "metadata": {},
   "outputs": [],
   "source": []
  },
  {
   "cell_type": "code",
   "execution_count": null,
   "metadata": {},
   "outputs": [],
   "source": []
  }
 ],
 "metadata": {
  "kernelspec": {
   "display_name": "py312",
   "language": "python",
   "name": "python3"
  },
  "language_info": {
   "codemirror_mode": {
    "name": "ipython",
    "version": 3
   },
   "file_extension": ".py",
   "mimetype": "text/x-python",
   "name": "python",
   "nbconvert_exporter": "python",
   "pygments_lexer": "ipython3",
   "version": "3.12.5"
  }
 },
 "nbformat": 4,
 "nbformat_minor": 2
}
