{
 "cells": [
  {
   "cell_type": "markdown",
   "metadata": {},
   "source": [
    "### MAP Function\n",
    "Use for use elemenmt of all number"
   ]
  },
  {
   "cell_type": "code",
   "execution_count": 1,
   "metadata": {},
   "outputs": [],
   "source": [
    "def sqere(num):\n",
    "\treturn num*num"
   ]
  },
  {
   "cell_type": "code",
   "execution_count": 11,
   "metadata": {},
   "outputs": [
    {
     "name": "stdout",
     "output_type": "stream",
     "text": [
      "[1, 4, 25, 36, 25]\n"
     ]
    }
   ],
   "source": [
    "li = [1 , 2 ,5 , 6 ,5]\n",
    "sq_list=list(map(sqere,li))\n",
    "print(sq_list)"
   ]
  },
  {
   "cell_type": "code",
   "execution_count": 15,
   "metadata": {},
   "outputs": [
    {
     "name": "stdout",
     "output_type": "stream",
     "text": [
      "[1, 2, 5, 6, 5]\n",
      "[1, 4, 25, 36, 25]\n"
     ]
    }
   ],
   "source": [
    "# Using lamda funtion\n",
    "li = [1 , 2 ,5 , 6 ,5]\n",
    "sq_list = list(map(lambda a:a**2,li))\n",
    "print(sq_list)"
   ]
  },
  {
   "cell_type": "code",
   "execution_count": 4,
   "metadata": {},
   "outputs": [
    {
     "name": "stdout",
     "output_type": "stream",
     "text": [
      "[15, 70, 90]\n"
     ]
    }
   ],
   "source": [
    "# On two element \n",
    "li2= [10,20,30]\n",
    "li3= [5,50,60]\n",
    "add_list=list(map(lambda a,b:a+b , li2,li3))\n",
    "print(add_list)"
   ]
  },
  {
   "cell_type": "code",
   "execution_count": 16,
   "metadata": {},
   "outputs": [
    {
     "name": "stdout",
     "output_type": "stream",
     "text": [
      "['Krish', 'Jack']\n"
     ]
    }
   ],
   "source": [
    "# use dictionary\n",
    "def get_name(dic):\n",
    "\treturn dic[\"name\"]\n",
    "\n",
    "people=[\n",
    "    {'name':'Tafheem','age':20},\n",
    "    {'name':'Alim','age':22}\n",
    "]\n",
    "\n",
    "person_name= list(map(get_name,people))\n",
    "print(person_name)"
   ]
  },
  {
   "cell_type": "code",
   "execution_count": null,
   "metadata": {},
   "outputs": [],
   "source": []
  },
  {
   "cell_type": "code",
   "execution_count": null,
   "metadata": {},
   "outputs": [],
   "source": []
  },
  {
   "cell_type": "code",
   "execution_count": null,
   "metadata": {},
   "outputs": [],
   "source": []
  },
  {
   "cell_type": "code",
   "execution_count": null,
   "metadata": {},
   "outputs": [],
   "source": []
  }
 ],
 "metadata": {
  "kernelspec": {
   "display_name": "py312",
   "language": "python",
   "name": "python3"
  },
  "language_info": {
   "codemirror_mode": {
    "name": "ipython",
    "version": 3
   },
   "file_extension": ".py",
   "mimetype": "text/x-python",
   "name": "python",
   "nbconvert_exporter": "python",
   "pygments_lexer": "ipython3",
   "version": "3.12.5"
  }
 },
 "nbformat": 4,
 "nbformat_minor": 2
}
