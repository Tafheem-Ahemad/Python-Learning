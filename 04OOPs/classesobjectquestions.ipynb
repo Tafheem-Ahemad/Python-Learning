{
 "cells": [
  {
   "cell_type": "markdown",
   "metadata": {},
   "source": [
    "# Module: Classes and Objects Assignments\n",
    "## Lesson: Creating and Working with Classes and Objects\n",
    "### Assignment 1: Basic Class and Object Creation\n",
    "\n",
    "Create a class named `Car` with attributes `make`, `model`, and `year`. Create an object of the class and print its attributes.\n",
    "\n",
    "### Assignment 2: Methods in Class\n",
    "\n",
    "Add a method named `start_engine` to the `Car` class that prints a message when the engine starts. Create an object of the class and call the method.\n",
    "\n",
    "### Assignment 3: Class with Constructor\n",
    "\n",
    "Create a class named `Student` with attributes `name` and `age`. Use a constructor to initialize these attributes. Create an object of the class and print its attributes.\n",
    "\n",
    "### Assignment 4: Class with Private Attributes\n",
    "\n",
    "Create a class named `BankAccount` with private attributes `account_number` and `balance`. Add methods to deposit and withdraw money, and to check the balance. Create an object of the class and perform some operations.\n",
    "\n",
    "### Assignment 5: Class Inheritance\n",
    "\n",
    "Create a base class named `Person` with attributes `name` and `age`. Create a derived class named `Employee` that inherits from `Person` and adds an attribute `employee_id`. Create an object of the derived class and print its attributes.\n",
    "\n",
    "### Assignment 6: Method Overriding\n",
    "\n",
    "In the `Employee` class, override the `__str__` method to return a string representation of the object. Create an object of the class and print it.\n",
    "\n",
    "### Assignment 7: Class Composition\n",
    "\n",
    "Create a class named `Address` with attributes `street`, `city`, and `zipcode`. Create a class named `Person` that has an `Address` object as an attribute. Create an object of the `Person` class and print its address.\n",
    "\n",
    "### Assignment 8: Class with Class Variables\n",
    "\n",
    "Create a class named `Counter` with a class variable `count`. Each time an object is created, increment the count. Add a method to get the current count. Create multiple objects and print the count.\n",
    "\n",
    "### Assignment 9: Static Methods\n",
    "\n",
    "Create a class named `MathOperations` with a static method to calculate the square root of a number. Call the static method without creating an object.\n",
    "\n",
    "### Assignment 10: Class with Properties\n",
    "\n",
    "Create a class named `Rectangle` with private attributes `length` and `width`. Use properties to get and set these attributes. Create an object of the class and test the properties.\n",
    "\n",
    "### Assignment 11: Abstract Base Class\n",
    "\n",
    "Create an abstract base class named `Shape` with an abstract method `area`. Create derived classes `Circle` and `Square` that implement the `area` method. Create objects of the derived classes and call the `area` method.\n",
    "\n",
    "### Assignment 12: Operator Overloading\n",
    "\n",
    "Create a class named `Vector` with attributes `x` and `y`. Overload the `+` operator to add two `Vector` objects. Create objects of the class and test the operator overloading.\n",
    "\n",
    "### Assignment 13: Class with Custom Exception\n",
    "\n",
    "Create a custom exception named `InsufficientBalanceError`. In the `BankAccount` class, raise this exception when a withdrawal amount is greater than the balance. Handle the exception and print an appropriate message.\n",
    "\n",
    "### Assignment 14: Class with Context Manager\n",
    "\n",
    "Create a class named `FileManager` that implements the context manager protocol to open and close a file. Use this class to read the contents of a file.\n",
    "\n",
    "### Assignment 15: Chaining Methods\n",
    "\n",
    "Create a class named `Calculator` with methods to add, subtract, multiply, and divide. Each method should return the object itself to allow method chaining. Create an object and chain multiple method calls."
   ]
  },
  {
   "cell_type": "code",
   "execution_count": null,
   "id": "87a9675c",
   "metadata": {},
   "outputs": [
    {
     "name": "stdout",
     "output_type": "stream",
     "text": [
      "Kalix\n",
      "This Student name is Kalix and age is 20 and class is B Tech\n"
     ]
    }
   ],
   "source": [
    "\n",
    "# Assignment 3: Class with Constructor\n",
    "\n",
    "class Student:\n",
    "\tdef __init__(self,name, age:int , Class):\n",
    "\t\tself.name=name\n",
    "\t\tself.age=age\n",
    "\t\tself.Class=Class\n",
    "\n",
    "\tdef __repr__(self) -> str:\n",
    "\t\treturn f\"This Student name is {self.name} and age is {self.age} and class is {self.Class}\"\n",
    "\t\n",
    "\n",
    "Ahemad=Student(name=\"Kalix\",age=20,Class=\"B Tech\")\n",
    "print(Ahemad.name)\n",
    "print(repr(Ahemad))\n",
    "\n",
    "\n"
   ]
  },
  {
   "cell_type": "code",
   "execution_count": 8,
   "id": "54946b56",
   "metadata": {},
   "outputs": [
    {
     "name": "stdout",
     "output_type": "stream",
     "text": [
      "The person name is kalix ans address is Kerange , Khordha , 154021\n"
     ]
    }
   ],
   "source": [
    "\n",
    "# Assignment 7: Class Composition\n",
    "\n",
    "class Adress:\n",
    "\tdef __init__(self,place,city,zipcode):\n",
    "\t\tself.place=place\n",
    "\t\tself.city=city\n",
    "\t\tself.zipcode=zipcode\n",
    "\n",
    "\tdef __repr__(self) -> str:\n",
    "\t\treturn f\"This Address is {self.place} , {self.city} , {self.zipcode}\"\n",
    "\t\n",
    "class Person(Adress):\n",
    "\tdef __init__(self,name, place, city, zipcode):\n",
    "\t\tsuper().__init__(place, city, zipcode)\n",
    "\t\tself.name=name\n",
    "\n",
    "\tdef __repr__(self) -> str:\n",
    "\t\treturn f\"The person name is {self.name} ans address is {self.place} , {self.city} , {self.zipcode}\"\n",
    "\t\n",
    "\n",
    "Ahemad=Person(name=\"kalix\",city=\"Khordha\",zipcode=154021,place=\"Kerange\")\n",
    "print(repr(Ahemad))\n",
    "\n",
    "\n"
   ]
  },
  {
   "cell_type": "code",
   "execution_count": null,
   "id": "c418f017",
   "metadata": {},
   "outputs": [
    {
     "name": "stdout",
     "output_type": "stream",
     "text": [
      "This number is 50 + j70\n"
     ]
    }
   ],
   "source": [
    "\n",
    "# Assignment 12: Operator Overloading\n",
    "\n",
    "class complex_number:\n",
    "\tdef __init__(self,x,y) -> None:\n",
    "\t\tself.x=x;\n",
    "\t\tself.y=y\n",
    "\n",
    "\tdef __add__(a,b):\n",
    "\t\treturn complex_number(a.x+b.x,a.y+b.y)\n",
    "\t\n",
    "\tdef __mul__(a,b): # *\n",
    "\t\tpass\n",
    "\n",
    "\tdef __sub__(a,b): # -\n",
    "\t\tpass\n",
    "\n",
    "\tdef __lt__(a,b): # <\n",
    "\t\tpass\n",
    "\n",
    "\tdef __le__(a,b): # <=\n",
    "\t\tpass\n",
    "\n",
    "\tdef __gt__(a,b): # >\n",
    "\t\tpass\n",
    "\n",
    "\tdef __ge__(a,b): # >=\n",
    "\t\tpass\n",
    "\n",
    "\n",
    "\tdef __mod__(a,b): # %\n",
    "\t\tpass\t\n",
    "\n",
    "\tdef __pow__(a,b): # **\n",
    "\t\tpass\n",
    "\n",
    "\tdef __eq__(a,b): # ==\n",
    "\t\tpass\n",
    "\n",
    "\n",
    "\tdef __truediv__\t(a,b): # /\n",
    "\t\tpass\n",
    "\t\n",
    "\tdef __floordiv__(a,b): # //\n",
    "\t\tpass\n",
    "\t\n",
    "\tdef __repr__(self) -> str:\n",
    "\t\treturn f\"This number is {self.x} + j{self.y}\"\n",
    "\n",
    "\n",
    "a1=complex_number(10,20)\n",
    "a2=complex_number(40,50)\n",
    "\n",
    "print(a1+a2)"
   ]
  },
  {
   "cell_type": "code",
   "execution_count": null,
   "id": "f8f3afd9",
   "metadata": {},
   "outputs": [],
   "source": []
  },
  {
   "cell_type": "code",
   "execution_count": null,
   "id": "a55be46d",
   "metadata": {},
   "outputs": [],
   "source": []
  }
 ],
 "metadata": {
  "kernelspec": {
   "display_name": "py312",
   "language": "python",
   "name": "python3"
  },
  "language_info": {
   "codemirror_mode": {
    "name": "ipython",
    "version": 3
   },
   "file_extension": ".py",
   "mimetype": "text/x-python",
   "name": "python",
   "nbconvert_exporter": "python",
   "pygments_lexer": "ipython3",
   "version": "3.12.5"
  }
 },
 "nbformat": 4,
 "nbformat_minor": 5
}
